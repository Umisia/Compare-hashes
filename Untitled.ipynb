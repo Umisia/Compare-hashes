{
 "cells": [
  {
   "cell_type": "code",
   "execution_count": 9,
   "metadata": {},
   "outputs": [
    {
     "data": {
      "text/plain": [
       "'6eb24b6f4887730fd20cb615c60d788440ab67f9'"
      ]
     },
     "execution_count": 9,
     "metadata": {},
     "output_type": "execute_result"
    }
   ],
   "source": [
    "import hashlib \n",
    "\n",
    "def file_hashing(filename):\n",
    "    BUF_SIZE = 65536  # read stuff in 64kb chunks\n",
    "    \n",
    "    hasher = hashlib.sha1()\n",
    "    with open(filename, 'rb') as file:\n",
    "        buf = file.read()\n",
    "        while len(buf) > 0:\n",
    "            hasher.update(buf)\n",
    "            buf = file.read(BUF_SIZE)\n",
    "            hasz = hasher.hexdigest()\n",
    "            return hasz\n",
    "        \n",
    "file_hashing(\"system_1.img\")"
   ]
  },
  {
   "cell_type": "code",
   "execution_count": null,
   "metadata": {},
   "outputs": [],
   "source": [
    "ekran na 2 czesci\n",
    "wybierz 1 plik wybierz 2 plik\n",
    "compare\n",
    "wyswietli ich hasze i czy sie zgadzaja informacje\n",
    "\n",
    "wybierz folder\n",
    "all pliki z folderu? czy jakos regex wkomponowac lub cmd style"
   ]
  },
  {
   "cell_type": "code",
   "execution_count": null,
   "metadata": {},
   "outputs": [],
   "source": [
    "6eb24b6f4887730fd20cb615c60d788440ab67f9"
   ]
  },
  {
   "cell_type": "code",
   "execution_count": null,
   "metadata": {},
   "outputs": [],
   "source": [
    "import tkinter, os\n",
    "import tkinter.messagebox\n",
    "from tkinter.filedialog import askopenfilename\n",
    "from PyPDF2 import PdfFileMerger\n",
    "\n",
    "window = tkinter.Tk()\n",
    "window.title(\"PDF Merger\")\n",
    "files_path_list = []\n",
    "\n",
    "def merge():    \n",
    "    option_selected = var_int.get()    \n",
    "    result_file_name = var_string.get() \n",
    "    \n",
    "    if not result_file_name:\n",
    "        tkinter.messagebox.showinfo(\"Failed\", \"Input file name\")\n",
    "    else:\n",
    "        pdfs = ['1.pdf', '2.pdf']if option_selected == 1 else files_path_list\n",
    "        try:              \n",
    "            merger = PdfFileMerger()         \n",
    "            for pdf in pdfs:\n",
    "                merger.append(pdf)         \n",
    "            merger.write(result_file_name+\".pdf\")\n",
    "            merger.close()\n",
    "            tkinter.messagebox.showinfo(\"Success\", \"Files merged.\")\n",
    "            if option_selected == 1:\n",
    "                rename(result_file_name) \n",
    "        except:\n",
    "            tkinter.messagebox.showinfo(\"Failed\", \"Something went wrong.\")\n",
    "        else:\n",
    "            \n",
    "            reset()\n",
    "            \n",
    "\n",
    "def rename(file_name):\n",
    "    os.rename(\"1.pdf\", file_name+\"-1.pdf\")\n",
    "    os.rename(\"2.pdf\", file_name+\"-2.pdf\")\n",
    "    \n",
    "def select_files():\n",
    "    midFrame.pack()\n",
    "    filename = askopenfilename(initialdir=\"./\", filetypes=[('pdf file', '*.pdf')], title = \"Choose a file.\") \n",
    "    if filename:\n",
    "        files_path_list.append(filename)\n",
    "        label_added.grid(column=0, row=1, columnspan=3)\n",
    "    if files_path_list:\n",
    "        label_added.config(text=(\"\\n\".join(files_path_list)))  \n",
    "        add_more = tkinter.Button(midFrame, text=\"Add another\", command = select_files)\n",
    "        add_more.grid(column=1, row=0)\n",
    "        \n",
    "def reset():\n",
    "    entry.delete(0, 'end')\n",
    "    midFrame.pack_forget()\n",
    "    label_added.config(text=(\"\"))\n",
    "    radio_1.select()\n",
    "    del files_path_list[:]\n",
    "\n",
    "    \n",
    "var_string = tkinter.StringVar()\n",
    "var_int = tkinter.IntVar()\n",
    "topFrame = tkinter.Frame(window)\n",
    "topFrame.pack()\n",
    "\n",
    "radio_1 = tkinter.Radiobutton(topFrame, text=\"Default\", variable=var_int, value=1, command = reset)\n",
    "radio_1.grid(column=0, row=0)\n",
    "radio_1.select()\n",
    "radio_2 = tkinter.Radiobutton(topFrame, text=\"Chose files\", variable=var_int, value=2, command = select_files)\n",
    "radio_2.grid(column=1, row=0)\n",
    "\n",
    "midFrame = tkinter.Frame(window)\n",
    "label_added = tkinter.Label(midFrame) \n",
    "\n",
    "\n",
    "bottomFrame = tkinter.Frame(window)\n",
    "bottomFrame.pack(side=\"bottom\")\n",
    "label_1 = tkinter.Label(bottomFrame, text=\"New file name\")\n",
    "label_1.grid(column=0, row=1)\n",
    "\n",
    "entry = tkinter.Entry(bottomFrame, textvariable = var_string)\n",
    "entry.grid(column=1, row=1)\n",
    "\n",
    "mergebutton = tkinter.Button(bottomFrame, text =\"Merge\", command = merge)\n",
    "mergebutton.grid(column=0, row=2,columnspan=2)\n",
    "\n",
    "\n",
    "window.mainloop()\n",
    "\n"
   ]
  }
 ],
 "metadata": {
  "kernelspec": {
   "display_name": "Python 3",
   "language": "python",
   "name": "python3"
  },
  "language_info": {
   "codemirror_mode": {
    "name": "ipython",
    "version": 3
   },
   "file_extension": ".py",
   "mimetype": "text/x-python",
   "name": "python",
   "nbconvert_exporter": "python",
   "pygments_lexer": "ipython3",
   "version": "3.7.5"
  }
 },
 "nbformat": 4,
 "nbformat_minor": 2
}
